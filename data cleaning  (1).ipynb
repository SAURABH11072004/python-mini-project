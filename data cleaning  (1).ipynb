{
 "cells": [
  {
   "cell_type": "code",
   "execution_count": 2,
   "id": "2e2282df",
   "metadata": {},
   "outputs": [
    {
     "name": "stdout",
     "output_type": "stream",
     "text": [
      "                   timestamp    open    high     low   close  volume\n",
      "0  2017-01-02 09:15:00+05:30  605.00  605.00  601.00  601.45  7033.0\n",
      "1  2017-01-02 09:16:00+05:30  601.45  602.35  601.45  602.00  3026.0\n",
      "2  2017-01-02 09:17:00+05:30  601.95  602.35  599.25  599.25  4129.0\n",
      "3  2017-01-02 09:18:00+05:30  599.25  600.35  599.00  600.35   687.0\n",
      "4  2017-01-02 09:19:00+05:30  600.35  600.50  599.75  600.00  2221.0\n"
     ]
    }
   ],
   "source": [
    "import pandas as pd\n",
    "\n",
    "df = pd.read_csv(r\"E:\\mini project\\HDFCBANK__EQ__NSE__NSE__MINUTE (1).csv\")\n",
    "\n",
    "df.dropna(inplace = True)\n",
    "\n",
    "print(df.head())\n"
   ]
  },
  {
   "cell_type": "code",
   "execution_count": 4,
   "id": "3748b5c8",
   "metadata": {},
   "outputs": [
    {
     "name": "stdout",
     "output_type": "stream",
     "text": [
      "                   timestamp    open    high     low   close    volume\n",
      "0  2017-01-02 09:15:00+05:30  232.95  233.00  231.59  231.73  111910.0\n",
      "1  2017-01-02 09:16:00+05:30  231.68  231.91  231.55  231.91   48472.0\n",
      "2  2017-01-02 09:17:00+05:30  232.09  232.09  231.36  231.55   22959.0\n",
      "3  2017-01-02 09:18:00+05:30  231.55  231.55  230.86  231.18   41806.0\n",
      "4  2017-01-02 09:19:00+05:30  231.32  231.41  230.95  231.23   49992.0\n"
     ]
    }
   ],
   "source": [
    "import pandas as pd\n",
    "\n",
    "df = pd.read_csv(r\"E:\\mini project\\ICICIBANK__EQ__NSE__NSE__MINUTE (3).csv\")\n",
    "\n",
    "df.dropna(inplace = True)\n",
    "\n",
    "print(df.head())\n"
   ]
  },
  {
   "cell_type": "code",
   "execution_count": 5,
   "id": "9579c6a0",
   "metadata": {},
   "outputs": [
    {
     "name": "stdout",
     "output_type": "stream",
     "text": [
      "                   timestamp    open    high     low   close   volume\n",
      "0  2017-01-02 09:15:00+05:30  505.73  506.43  504.53  505.15  14826.0\n",
      "1  2017-01-02 09:16:00+05:30  505.00  505.40  504.50  504.80   9264.0\n",
      "2  2017-01-02 09:17:00+05:30  504.80  504.98  504.50  504.55   7058.0\n",
      "3  2017-01-02 09:18:00+05:30  504.70  504.70  503.95  504.25   7510.0\n",
      "4  2017-01-02 09:19:00+05:30  504.25  504.63  504.00  504.20   4120.0\n"
     ]
    }
   ],
   "source": [
    "import pandas as pd\n",
    "\n",
    "df = pd.read_csv(r\"E:\\mini project\\INFY__EQ__NSE__NSE__MINUTE (1).csv\")\n",
    "\n",
    "df.dropna(inplace = True)\n",
    "\n",
    "print(df.head())\n"
   ]
  },
  {
   "cell_type": "code",
   "execution_count": 6,
   "id": "5ff12e33",
   "metadata": {},
   "outputs": [
    {
     "name": "stdout",
     "output_type": "stream",
     "text": [
      "                   timestamp    open    high     low   close   volume\n",
      "0  2017-01-02 09:15:00+05:30  241.85  241.85  239.45  240.25  46424.0\n",
      "1  2017-01-02 09:16:00+05:30  240.45  240.45  239.70  239.90   6641.0\n",
      "2  2017-01-02 09:17:00+05:30  239.85  239.90  239.75  239.75  11820.0\n",
      "3  2017-01-02 09:18:00+05:30  239.75  240.15  239.70  239.80  18751.0\n",
      "4  2017-01-02 09:19:00+05:30  239.80  240.20  239.70  240.15  13474.0\n"
     ]
    }
   ],
   "source": [
    "import pandas as pd\n",
    "\n",
    "df = pd.read_csv(r\"E:\\mini project\\ITC__EQ__NSE__NSE__MINUTE (1).csv\")\n",
    "\n",
    "df.dropna(inplace = True)\n",
    "\n",
    "print(df.head())\n"
   ]
  },
  {
   "cell_type": "code",
   "execution_count": 7,
   "id": "47627443",
   "metadata": {},
   "outputs": [
    {
     "name": "stdout",
     "output_type": "stream",
     "text": [
      "                   timestamp    open    high     low   close    volume\n",
      "0  2017-01-02 09:15:00+05:30  719.80  720.90  716.35  720.15    8916.0\n",
      "1  2017-01-02 09:16:00+05:30  720.15  720.50  718.75  718.75    2671.0\n",
      "2  2017-01-02 09:17:00+05:30  718.75  719.40  718.50  718.60    1453.0\n",
      "3  2017-01-02 09:18:00+05:30  718.60  718.95  717.05  718.95     899.0\n",
      "4  2017-01-02 09:19:00+05:30  718.95  719.45  718.00  718.50  205835.0\n"
     ]
    }
   ],
   "source": [
    "import pandas as pd\n",
    "\n",
    "df = pd.read_csv(r\"E:\\mini project\\KOTAKBANK__EQ__NSE__NSE__MINUTE (1).csv\")\n",
    "\n",
    "df.dropna(inplace = True)\n",
    "\n",
    "print(df.head())\n"
   ]
  },
  {
   "cell_type": "code",
   "execution_count": 8,
   "id": "0bd24cac",
   "metadata": {},
   "outputs": [
    {
     "name": "stdout",
     "output_type": "stream",
     "text": [
      "                   timestamp     open    high      low    close   volume\n",
      "0  2017-01-02 09:15:00+05:30  5336.25  5349.7  5321.20  5342.45   9385.0\n",
      "1  2017-01-02 09:16:00+05:30  5342.90  5343.6  5325.10  5330.60   3666.0\n",
      "2  2017-01-02 09:17:00+05:30  5331.90  5333.8  5310.00  5313.45   4651.0\n",
      "3  2017-01-02 09:18:00+05:30  5311.05  5313.9  5302.85  5304.00   5654.0\n",
      "4  2017-01-02 09:19:00+05:30  5305.70  5307.5  5271.20  5271.20  13687.0\n"
     ]
    }
   ],
   "source": [
    "import pandas as pd\n",
    "\n",
    "df = pd.read_csv(r\"E:\\mini project\\MARUTI__EQ__NSE__NSE__MINUTE (1).csv\")\n",
    "\n",
    "df.dropna(inplace = True)\n",
    "\n",
    "print(df.head())"
   ]
  },
  {
   "cell_type": "code",
   "execution_count": 9,
   "id": "f4225826",
   "metadata": {},
   "outputs": [
    {
     "name": "stdout",
     "output_type": "stream",
     "text": [
      "                   timestamp     open     high      low    close  volume\n",
      "0  2017-01-02 09:15:00+05:30  6030.00  6039.05  6030.00  6039.05     5.0\n",
      "1  2017-01-02 09:16:00+05:30  6040.00  6081.05  6040.00  6070.00    59.0\n",
      "2  2017-01-02 09:17:00+05:30  6070.00  6080.00  6070.00  6079.60    61.0\n",
      "3  2017-01-02 09:18:00+05:30  6079.60  6079.60  6049.15  6049.15    37.0\n",
      "4  2017-01-02 09:19:00+05:30  6049.15  6067.25  6049.15  6062.15    16.0\n"
     ]
    }
   ],
   "source": [
    "import pandas as pd\n",
    "\n",
    "df = pd.read_csv(r\"E:\\mini project\\NESTLEIND__EQ__NSE__NSE__MINUTE (1).csv\")\n",
    "\n",
    "df.dropna(inplace = True)\n",
    "\n",
    "print(df.head())"
   ]
  },
  {
   "cell_type": "code",
   "execution_count": 10,
   "id": "bdb19a41",
   "metadata": {},
   "outputs": [
    {
     "name": "stdout",
     "output_type": "stream",
     "text": [
      "                   timestamp    open    high     low   close   volume\n",
      "0  2017-01-02 09:15:00+05:30  536.55  537.85  535.60  535.90  30989.0\n",
      "1  2017-01-02 09:16:00+05:30  536.35  536.65  536.05  536.40  15076.0\n",
      "2  2017-01-02 09:17:00+05:30  536.55  536.55  532.20  532.20  53438.0\n",
      "3  2017-01-02 09:18:00+05:30  532.30  534.85  531.15  534.85  35025.0\n",
      "4  2017-01-02 09:19:00+05:30  534.90  535.10  534.35  534.80  21102.0\n"
     ]
    }
   ],
   "source": [
    "import pandas as pd\n",
    "\n",
    "df = pd.read_csv(r\"E:\\mini project\\RELIANCE__EQ__NSE__NSE__MINUTE (1).csv\")\n",
    "\n",
    "df.dropna(inplace = True)\n",
    "\n",
    "print(df.head())"
   ]
  },
  {
   "cell_type": "code",
   "execution_count": 11,
   "id": "e0c4fa3e",
   "metadata": {},
   "outputs": [
    {
     "name": "stdout",
     "output_type": "stream",
     "text": [
      "                   timestamp    open    high     low   close    volume\n",
      "0  2017-01-02 09:15:00+05:30  252.40  253.60  251.60  251.85  297611.0\n",
      "1  2017-01-02 09:16:00+05:30  251.85  252.40  251.35  251.40  192754.0\n",
      "2  2017-01-02 09:17:00+05:30  251.45  251.70  251.20  251.20  131924.0\n",
      "3  2017-01-02 09:18:00+05:30  251.20  251.20  250.55  250.75  225075.0\n",
      "4  2017-01-02 09:19:00+05:30  250.75  250.75  250.00  250.25  215535.0\n"
     ]
    }
   ],
   "source": [
    "import pandas as pd\n",
    "\n",
    "df = pd.read_csv(r\"E:\\mini project\\SBIN__EQ__NSE__NSE__MINUTE (1).csv\")\n",
    "\n",
    "df.dropna(inplace = True)\n",
    "\n",
    "print(df.head())"
   ]
  },
  {
   "cell_type": "code",
   "execution_count": 12,
   "id": "a511abef",
   "metadata": {},
   "outputs": [
    {
     "name": "stdout",
     "output_type": "stream",
     "text": [
      "                   timestamp     open    high      low    close  volume\n",
      "0  2017-01-02 09:15:00+05:30  1183.50  1185.5  1180.25  1183.50  8970.0\n",
      "1  2017-01-02 09:16:00+05:30  1183.50  1184.5  1180.85  1182.48  5538.0\n",
      "2  2017-01-02 09:17:00+05:30  1182.50  1182.5  1181.43  1181.68  1366.0\n",
      "3  2017-01-02 09:18:00+05:30  1181.68  1185.8  1181.48  1185.80  1640.0\n",
      "4  2017-01-02 09:19:00+05:30  1185.80  1185.8  1182.00  1183.25  3486.0\n"
     ]
    }
   ],
   "source": [
    "import pandas as pd\n",
    "\n",
    "df = pd.read_csv(r\"E:\\mini project\\TCS__EQ__NSE__NSE__MINUTE (1).csv\")\n",
    "\n",
    "df.dropna(inplace = True)\n",
    "\n",
    "print(df.head())"
   ]
  },
  {
   "cell_type": "code",
   "execution_count": null,
   "id": "fb2196c2",
   "metadata": {},
   "outputs": [],
   "source": []
  }
 ],
 "metadata": {
  "kernelspec": {
   "display_name": "Python 3 (ipykernel)",
   "language": "python",
   "name": "python3"
  },
  "language_info": {
   "codemirror_mode": {
    "name": "ipython",
    "version": 3
   },
   "file_extension": ".py",
   "mimetype": "text/x-python",
   "name": "python",
   "nbconvert_exporter": "python",
   "pygments_lexer": "ipython3",
   "version": "3.11.5"
  }
 },
 "nbformat": 4,
 "nbformat_minor": 5
}
