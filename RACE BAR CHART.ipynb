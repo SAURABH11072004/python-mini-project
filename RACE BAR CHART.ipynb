{
 "cells": [
  {
   "cell_type": "code",
   "execution_count": 1,
   "id": "b5834c46",
   "metadata": {},
   "outputs": [
    {
     "name": "stderr",
     "output_type": "stream",
     "text": [
      "C:\\Users\\chand\\anaconda3\\Lib\\site-packages\\bar_chart_race\\_make_chart.py:286: UserWarning: set_ticklabels() should only be used with a fixed number of ticks, i.e. after set_ticks() or using a FixedLocator.\n",
      "  ax.set_yticklabels(self.df_values.columns)\n",
      "C:\\Users\\chand\\anaconda3\\Lib\\site-packages\\bar_chart_race\\_make_chart.py:287: UserWarning: set_ticklabels() should only be used with a fixed number of ticks, i.e. after set_ticks() or using a FixedLocator.\n",
      "  ax.set_xticklabels([max_val] * len(ax.get_xticks()))\n"
     ]
    },
    {
     "data": {
      "text/html": [
       "<video src=\"StockVolume_BarChartRace.mp4\" controls  width=\"900\"  height=\"600\">\n",
       "      Your browser does not support the <code>video</code> element.\n",
       "    </video>"
      ],
      "text/plain": [
       "<IPython.core.display.Video object>"
      ]
     },
     "execution_count": 1,
     "metadata": {},
     "output_type": "execute_result"
    }
   ],
   "source": [
    "\n",
    "\n",
    "import pandas as pd\n",
    "import glob\n",
    "import bar_chart_race as bcr\n",
    "from IPython.display import Video\n",
    "\n",
    "# Load and concatenate the first 100 rows from each dataset in the specified folder\n",
    "file_path = 'E:/mini project/*.csv'  # Adjust path if necessary\n",
    "all_files = glob.glob(file_path)\n",
    "data_frames = []\n",
    "for file in all_files:\n",
    "    df = pd.read_csv(file).head(100)\n",
    "    # Extract only the stock name (e.g., \"HDFC\" from \"mini project\\hdfc\")\n",
    "    df['dataset_name'] = file.split('\\\\')[-1].split('.')[0].upper()  # Extracts 'HDFC' and capitalizes it\n",
    "    data_frames.append(df)\n",
    "combined_data = pd.concat(data_frames, ignore_index=True)\n",
    "\n",
    "# Convert timestamp to datetime format and sort by timestamp\n",
    "combined_data['timestamp'] = pd.to_datetime(combined_data['timestamp'])\n",
    "combined_data = combined_data.sort_values('timestamp')\n",
    "\n",
    "# Aggregate the data by minute for each dataset\n",
    "combined_data = combined_data.groupby(['timestamp', 'dataset_name']).sum().reset_index()\n",
    "\n",
    "# Create a pivot table with timestamp as the index and dataset_name as the columns, with volume as the values\n",
    "pivot_data = combined_data.pivot(index='timestamp', columns='dataset_name', values='volume')\n",
    "\n",
    "# Generate the bar chart race with updated title\n",
    "bcr.bar_chart_race(\n",
    "    df=pivot_data,\n",
    "    filename='StockVolume_BarChartRace.mp4',\n",
    "    orientation='h',  # Horizontal bars\n",
    "    sort='desc',  # Sort in descending order\n",
    "    n_bars=10,  # Display top 10 bars\n",
    "    fixed_order=False,  # Let the order change over time\n",
    "    fixed_max=False,  # Let the max value change dynamically\n",
    "    steps_per_period=10,  # Speed of animation\n",
    "    interpolate_period=False,  # No interpolation between periods\n",
    "    label_bars=True,  # Display labels\n",
    "    bar_size=0.95,  # Bar size\n",
    "    period_label={'x': 0.99, 'y': 0.25, 'ha': 'right', 'va': 'center'},  # Position of period label\n",
    "    period_fmt='%Y-%m-%d %H:%M:%S%z',  # Format for the timestamp as shown in the image\n",
    "    period_summary_func=lambda v, r: {'x': 0.99, 'y': 0.18, 's': '', 'ha': 'right', 'size': 8, 'family': 'Courier New'},  # Period summary\n",
    "    perpendicular_bar_func='median',  # Add a visual effect on bars\n",
    "    period_length=1000,  # Duration for each period\n",
    "    figsize=(5, 3),  # Size of the video\n",
    "    dpi=500,  # DPI for better resolution\n",
    "    cmap='dark24',  # Color map for the bars\n",
    "    title='Top 10 Stock Volumes',  # Updated title\n",
    "    title_size=10,  # Title size\n",
    "    bar_label_size=7,  # Label size\n",
    "    tick_label_size=5,  # Tick label size\n",
    "    shared_fontdict={'color': '.1'},  # Font color for the text\n",
    "    scale='linear',  # Linear scale for the bars\n",
    "    writer=None,  # Video writer (using default)\n",
    "    bar_kwargs={'alpha': 0.7},  # Transparency of bars\n",
    "    filter_column_colors=True  # Apply the filter to column colors\n",
    ")\n",
    "\n",
    "# Display the generated video\n",
    "Video(\"StockVolume_BarChartRace.mp4\", width=900, height=600)\n"
   ]
  },
  {
   "cell_type": "code",
   "execution_count": null,
   "id": "337dd5e1",
   "metadata": {},
   "outputs": [],
   "source": []
  }
 ],
 "metadata": {
  "kernelspec": {
   "display_name": "Python 3 (ipykernel)",
   "language": "python",
   "name": "python3"
  },
  "language_info": {
   "codemirror_mode": {
    "name": "ipython",
    "version": 3
   },
   "file_extension": ".py",
   "mimetype": "text/x-python",
   "name": "python",
   "nbconvert_exporter": "python",
   "pygments_lexer": "ipython3",
   "version": "3.11.5"
  }
 },
 "nbformat": 4,
 "nbformat_minor": 5
}
