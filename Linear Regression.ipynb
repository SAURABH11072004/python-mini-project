{
 "cells": [
  {
   "cell_type": "code",
   "execution_count": 1,
   "id": "ef0318c2",
   "metadata": {},
   "outputs": [
    {
     "name": "stdout",
     "output_type": "stream",
     "text": [
      "Mean Squared Error (open): 0.15951741244021989\n",
      "R-squared (open): 0.9999947334119687\n",
      "Predicted open: 607.8972392378237\n"
     ]
    }
   ],
   "source": [
    "#1. Prediction for open\n",
    "import pandas as pd\n",
    "from sklearn.model_selection import train_test_split\n",
    "from sklearn.linear_model import LinearRegression\n",
    "from sklearn.metrics import mean_squared_error, r2_score\n",
    "\n",
    "# Load and clean data\n",
    "data = pd.read_csv(\"E:/mini project/HDFC.csv\")\n",
    "data_cleaned = data.dropna()\n",
    "\n",
    "# Prepare features and target for 'open'\n",
    "X = data_cleaned.drop(columns=['open', 'timestamp'])\n",
    "y = data_cleaned['open']\n",
    "\n",
    "# Split the data\n",
    "X_train, X_test, y_train, y_test = train_test_split(X, y, test_size=0.2, random_state=42)\n",
    "\n",
    "# Train the model\n",
    "model_open = LinearRegression()\n",
    "model_open.fit(X_train, y_train)\n",
    "\n",
    "# Make predictions and evaluate\n",
    "y_pred_open = model_open.predict(X_test)\n",
    "print(f\"Mean Squared Error (open): {mean_squared_error(y_test, y_pred_open)}\")\n",
    "print(f\"R-squared (open): {r2_score(y_test, y_pred_open)}\")\n",
    "\n",
    "# Example prediction\n",
    "example_data = pd.DataFrame({'high': [610], 'low': [600], 'close': [601], 'volume': [7000]})\n",
    "predicted_open = model_open.predict(example_data)\n",
    "print(f\"Predicted open: {predicted_open[0]}\")\n"
   ]
  },
  {
   "cell_type": "code",
   "execution_count": 2,
   "id": "697a07f9",
   "metadata": {},
   "outputs": [
    {
     "name": "stdout",
     "output_type": "stream",
     "text": [
      "Mean Squared Error (close): 0.1235791708004563\n",
      "R-squared (close): 0.9999959196919915\n",
      "Predicted close: 605.0779916049036\n"
     ]
    }
   ],
   "source": [
    "#2. Prediction for close\n",
    "# Prepare features and target for 'close'\n",
    "X = data_cleaned.drop(columns=['close', 'timestamp'])\n",
    "y = data_cleaned['close']\n",
    "\n",
    "# Split the data\n",
    "X_train, X_test, y_train, y_test = train_test_split(X, y, test_size=0.2, random_state=42)\n",
    "\n",
    "# Train the model\n",
    "model_close = LinearRegression()\n",
    "model_close.fit(X_train, y_train)\n",
    "\n",
    "# Make predictions and evaluate\n",
    "y_pred_close = model_close.predict(X_test)\n",
    "print(f\"Mean Squared Error (close): {mean_squared_error(y_test, y_pred_close)}\")\n",
    "print(f\"R-squared (close): {r2_score(y_test, y_pred_close)}\")\n",
    "\n",
    "# Example prediction\n",
    "example_data = pd.DataFrame({'open': [605], 'high': [610], 'low': [600], 'volume': [7000]})\n",
    "predicted_close = model_close.predict(example_data)\n",
    "print(f\"Predicted close: {predicted_close[0]}\")\n"
   ]
  },
  {
   "cell_type": "code",
   "execution_count": 3,
   "id": "365c0363",
   "metadata": {},
   "outputs": [
    {
     "name": "stdout",
     "output_type": "stream",
     "text": [
      "Mean Squared Error (low): 0.14785294194859847\n",
      "R-squared (low): 0.999995113980563\n",
      "Predicted low: 598.9044056633164\n"
     ]
    }
   ],
   "source": [
    "#3. Prediction for low\n",
    "# Prepare features and target for 'low'\n",
    "X = data_cleaned.drop(columns=['low', 'timestamp'])\n",
    "y = data_cleaned['low']\n",
    "\n",
    "# Split the data\n",
    "X_train, X_test, y_train, y_test = train_test_split(X, y, test_size=0.2, random_state=42)\n",
    "\n",
    "# Train the model\n",
    "model_low = LinearRegression()\n",
    "model_low.fit(X_train, y_train)\n",
    "\n",
    "# Make predictions and evaluate\n",
    "y_pred_low = model_low.predict(X_test)\n",
    "print(f\"Mean Squared Error (low): {mean_squared_error(y_test, y_pred_low)}\")\n",
    "print(f\"R-squared (low): {r2_score(y_test, y_pred_low)}\")\n",
    "\n",
    "# Example prediction\n",
    "example_data = pd.DataFrame({'open': [605], 'high': [610], 'close': [601], 'volume': [7000]})\n",
    "predicted_low = model_low.predict(example_data)\n",
    "print(f\"Predicted low: {predicted_low[0]}\")\n"
   ]
  },
  {
   "cell_type": "code",
   "execution_count": 4,
   "id": "948829c8",
   "metadata": {},
   "outputs": [
    {
     "name": "stdout",
     "output_type": "stream",
     "text": [
      "Mean Squared Error (high): 0.1366632051511157\n",
      "R-squared (high): 0.9999954915446875\n",
      "Predicted high: 604.454241949083\n"
     ]
    }
   ],
   "source": [
    "#4. Prediction for high\n",
    "# Prepare features and target for 'high'\n",
    "X = data_cleaned.drop(columns=['high', 'timestamp'])\n",
    "y = data_cleaned['high']\n",
    "\n",
    "# Split the data\n",
    "X_train, X_test, y_train, y_test = train_test_split(X, y, test_size=0.2, random_state=42)\n",
    "\n",
    "# Train the model\n",
    "model_high = LinearRegression()\n",
    "model_high.fit(X_train, y_train)\n",
    "\n",
    "# Make predictions and evaluate\n",
    "y_pred_high = model_high.predict(X_test)\n",
    "print(f\"Mean Squared Error (high): {mean_squared_error(y_test, y_pred_high)}\")\n",
    "print(f\"R-squared (high): {r2_score(y_test, y_pred_high)}\")\n",
    "\n",
    "# Example prediction\n",
    "example_data = pd.DataFrame({'open': [605], 'low': [600], 'close': [601], 'volume': [7000]})\n",
    "predicted_high = model_high.predict(example_data)\n",
    "print(f\"Predicted high: {predicted_high[0]}\")\n"
   ]
  },
  {
   "cell_type": "code",
   "execution_count": 5,
   "id": "356a442d",
   "metadata": {},
   "outputs": [
    {
     "name": "stdout",
     "output_type": "stream",
     "text": [
      "Mean Squared Error (volume): 2538031865.630393\n",
      "R-squared (volume): 0.16236767873435642\n",
      "Predicted volume: 228669.8168921621\n"
     ]
    }
   ],
   "source": [
    "#5. Prediction for volume\n",
    "# Prepare features and target for 'volume'\n",
    "X = data_cleaned.drop(columns=['volume', 'timestamp'])\n",
    "y = data_cleaned['volume']\n",
    "\n",
    "# Split the data\n",
    "X_train, X_test, y_train, y_test = train_test_split(X, y, test_size=0.2, random_state=42)\n",
    "\n",
    "# Train the model\n",
    "model_volume = LinearRegression()\n",
    "model_volume.fit(X_train, y_train)\n",
    "\n",
    "# Make predictions and evaluate\n",
    "y_pred_volume = model_volume.predict(X_test)\n",
    "print(f\"Mean Squared Error (volume): {mean_squared_error(y_test, y_pred_volume)}\")\n",
    "print(f\"R-squared (volume): {r2_score(y_test, y_pred_volume)}\")\n",
    "\n",
    "# Example prediction\n",
    "example_data = pd.DataFrame({'open': [605], 'high': [610], 'low': [600], 'close': [601]})\n",
    "predicted_volume = model_volume.predict(example_data)\n",
    "print(f\"Predicted volume: {predicted_volume[0]}\")\n"
   ]
  }
 ],
 "metadata": {
  "kernelspec": {
   "display_name": "Python 3 (ipykernel)",
   "language": "python",
   "name": "python3"
  },
  "language_info": {
   "codemirror_mode": {
    "name": "ipython",
    "version": 3
   },
   "file_extension": ".py",
   "mimetype": "text/x-python",
   "name": "python",
   "nbconvert_exporter": "python",
   "pygments_lexer": "ipython3",
   "version": "3.11.5"
  }
 },
 "nbformat": 4,
 "nbformat_minor": 5
}
